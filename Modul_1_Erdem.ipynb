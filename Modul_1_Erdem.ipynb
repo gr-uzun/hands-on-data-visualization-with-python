{
 "cells": [
  {
   "cell_type": "code",
   "execution_count": 1,
   "metadata": {
    "colab": {
     "base_uri": "https://localhost:8080/"
    },
    "id": "6gjDpQ3v2z0I",
    "outputId": "ec50223e-59ed-4c65-feb7-b4b24c77760a"
   },
   "outputs": [
    {
     "name": "stdout",
     "output_type": "stream",
     "text": [
      "Hello world!\n"
     ]
    }
   ],
   "source": [
    "print(\"Hello world!\")"
   ]
  },
  {
   "cell_type": "code",
   "execution_count": 2,
   "metadata": {
    "colab": {
     "base_uri": "https://localhost:8080/"
    },
    "id": "5wXIYz6X210a",
    "outputId": "dec31d9b-3c2a-443b-fc97-a0bd65a35901"
   },
   "outputs": [
    {
     "name": "stdout",
     "output_type": "stream",
     "text": [
      "Hands-on Data Viz with Python \n"
     ]
    }
   ],
   "source": [
    "print(\"Hands-on Data Viz with Python \")"
   ]
  },
  {
   "cell_type": "code",
   "execution_count": 3,
   "metadata": {
    "colab": {
     "base_uri": "https://localhost:8080/"
    },
    "id": "ziIMMJL-268u",
    "outputId": "03f688f9-43d3-43ce-c441-9ae5b38c6086"
   },
   "outputs": [
    {
     "name": "stdout",
     "output_type": "stream",
     "text": [
      "100\n"
     ]
    }
   ],
   "source": [
    "#int (sayıları temsil eder)\n",
    "x = 100 \n",
    "print(x)"
   ]
  },
  {
   "cell_type": "code",
   "execution_count": 4,
   "metadata": {
    "colab": {
     "base_uri": "https://localhost:8080/"
    },
    "id": "yQi4AHoi3Se_",
    "outputId": "0a6c7e3d-cc77-4a29-ca37-6ed23b205424"
   },
   "outputs": [
    {
     "name": "stdout",
     "output_type": "stream",
     "text": [
      "Num degerimiz :  2.5\n"
     ]
    }
   ],
   "source": [
    "#float (ondalıklı sayıları temsil eder)\n",
    "num = 2.5 \n",
    "print(\"Num degerimiz : \", num)"
   ]
  },
  {
   "cell_type": "code",
   "execution_count": 5,
   "metadata": {
    "colab": {
     "base_uri": "https://localhost:8080/"
    },
    "id": "kUARTEgc3zXq",
    "outputId": "cfffbc29-5216-44f9-dfb3-48a4388cee50"
   },
   "outputs": [
    {
     "name": "stdout",
     "output_type": "stream",
     "text": [
      "a\n"
     ]
    }
   ],
   "source": [
    "#str (yazıları ve stringleri temsil eder)\n",
    "string = 'a'\n",
    "print(string)"
   ]
  },
  {
   "cell_type": "code",
   "execution_count": 6,
   "metadata": {
    "colab": {
     "base_uri": "https://localhost:8080/"
    },
    "id": "fTSVi_ZB4QmZ",
    "outputId": "3e3ecb21-dc8a-430c-ef21-c1f1d7d60b39"
   },
   "outputs": [
    {
     "data": {
      "text/plain": [
       "str"
      ]
     },
     "execution_count": 6,
     "metadata": {},
     "output_type": "execute_result"
    }
   ],
   "source": [
    "type(string) #Elimizdeki verinin hangi veri tipine sınıfına ait olduğunu öğrenmemizi sağlıyor"
   ]
  },
  {
   "cell_type": "code",
   "execution_count": 7,
   "metadata": {
    "colab": {
     "base_uri": "https://localhost:8080/"
    },
    "id": "ZPsayg9_4wFv",
    "outputId": "44c525a1-9789-4a81-b2a2-e5dab594a259"
   },
   "outputs": [
    {
     "data": {
      "text/plain": [
       "float"
      ]
     },
     "execution_count": 7,
     "metadata": {},
     "output_type": "execute_result"
    }
   ],
   "source": [
    "type(num)"
   ]
  },
  {
   "cell_type": "code",
   "execution_count": 8,
   "metadata": {
    "colab": {
     "base_uri": "https://localhost:8080/"
    },
    "id": "vCY4mIFE41sJ",
    "outputId": "b6c821d5-3533-44d4-d987-efbc6334f14b"
   },
   "outputs": [
    {
     "data": {
      "text/plain": [
       "int"
      ]
     },
     "execution_count": 8,
     "metadata": {},
     "output_type": "execute_result"
    }
   ],
   "source": [
    "type(x)"
   ]
  },
  {
   "cell_type": "code",
   "execution_count": 9,
   "metadata": {
    "colab": {
     "base_uri": "https://localhost:8080/"
    },
    "id": "4ck9pymh43ui",
    "outputId": "6de6f2a7-93f9-43e5-f081-6e956fd1cb88"
   },
   "outputs": [
    {
     "data": {
      "text/plain": [
       "int"
      ]
     },
     "execution_count": 9,
     "metadata": {},
     "output_type": "execute_result"
    }
   ],
   "source": [
    "type(3)"
   ]
  },
  {
   "cell_type": "code",
   "execution_count": 10,
   "metadata": {
    "colab": {
     "base_uri": "https://localhost:8080/"
    },
    "id": "S7VyOc7b5GuG",
    "outputId": "1391cac9-f574-4724-a315-d31f766d2c1d"
   },
   "outputs": [
    {
     "data": {
      "text/plain": [
       "8"
      ]
     },
     "execution_count": 10,
     "metadata": {},
     "output_type": "execute_result"
    }
   ],
   "source": [
    "3 + 5 "
   ]
  },
  {
   "cell_type": "code",
   "execution_count": 11,
   "metadata": {
    "colab": {
     "base_uri": "https://localhost:8080/",
     "height": 35
    },
    "id": "6TrWUMb16T48",
    "outputId": "d515d7c2-3758-4ac2-e6cf-488b6f1a23f0"
   },
   "outputs": [
    {
     "data": {
      "text/plain": [
       "'35'"
      ]
     },
     "execution_count": 11,
     "metadata": {},
     "output_type": "execute_result"
    }
   ],
   "source": [
    "\"3\"+\"5\" # concat"
   ]
  },
  {
   "cell_type": "code",
   "execution_count": 12,
   "metadata": {
    "colab": {
     "base_uri": "https://localhost:8080/"
    },
    "id": "CCYAUDbc6aOS",
    "outputId": "94f75399-b3ef-4c0d-d020-2775a576592a"
   },
   "outputs": [
    {
     "data": {
      "text/plain": [
       "15"
      ]
     },
     "execution_count": 12,
     "metadata": {},
     "output_type": "execute_result"
    }
   ],
   "source": [
    "3 * 5"
   ]
  },
  {
   "cell_type": "code",
   "execution_count": 13,
   "metadata": {
    "colab": {
     "base_uri": "https://localhost:8080/"
    },
    "id": "p19auvdw6iN5",
    "outputId": "665c2e09-1bab-4f5e-ab89-465fd207bb26"
   },
   "outputs": [
    {
     "data": {
      "text/plain": [
       "12.5"
      ]
     },
     "execution_count": 13,
     "metadata": {},
     "output_type": "execute_result"
    }
   ],
   "source": [
    "num * 5 "
   ]
  },
  {
   "cell_type": "code",
   "execution_count": 14,
   "metadata": {
    "colab": {
     "base_uri": "https://localhost:8080/"
    },
    "id": "hnqvkj-X6mPh",
    "outputId": "43cae41d-8d6b-4c33-ba00-722ed4fbaac4"
   },
   "outputs": [
    {
     "name": "stdout",
     "output_type": "stream",
     "text": [
      "20\n"
     ]
    }
   ],
   "source": [
    "print(x // 5)"
   ]
  },
  {
   "cell_type": "code",
   "execution_count": 15,
   "metadata": {
    "colab": {
     "base_uri": "https://localhost:8080/"
    },
    "id": "IlNqca7d6wW9",
    "outputId": "40eb1ca7-2542-41a6-be2b-094f4eec69c9"
   },
   "outputs": [
    {
     "data": {
      "text/plain": [
       "0.8333333333333334"
      ]
     },
     "execution_count": 15,
     "metadata": {},
     "output_type": "execute_result"
    }
   ],
   "source": [
    "num / 3 "
   ]
  },
  {
   "cell_type": "code",
   "execution_count": 16,
   "metadata": {
    "colab": {
     "base_uri": "https://localhost:8080/"
    },
    "id": "RySKcYE-699D",
    "outputId": "ea022e1d-597d-49e1-a922-663b362266e8"
   },
   "outputs": [
    {
     "data": {
      "text/plain": [
       "0.0"
      ]
     },
     "execution_count": 16,
     "metadata": {},
     "output_type": "execute_result"
    }
   ],
   "source": [
    "num //3 "
   ]
  },
  {
   "cell_type": "code",
   "execution_count": 17,
   "metadata": {
    "colab": {
     "base_uri": "https://localhost:8080/"
    },
    "id": "lOvnur7I6_PK",
    "outputId": "1c0fce5c-08ea-4bec-b7e2-ed50355c08b5"
   },
   "outputs": [
    {
     "data": {
      "text/plain": [
       "1"
      ]
     },
     "execution_count": 17,
     "metadata": {},
     "output_type": "execute_result"
    }
   ],
   "source": [
    "round(1.1)"
   ]
  },
  {
   "cell_type": "code",
   "execution_count": 18,
   "metadata": {
    "colab": {
     "base_uri": "https://localhost:8080/"
    },
    "id": "5oLG2cPp7RLm",
    "outputId": "d605d2f4-b9ca-42a5-b5b0-ee0f42639c77"
   },
   "outputs": [
    {
     "data": {
      "text/plain": [
       "2"
      ]
     },
     "execution_count": 18,
     "metadata": {},
     "output_type": "execute_result"
    }
   ],
   "source": [
    "round(2.5)"
   ]
  },
  {
   "cell_type": "code",
   "execution_count": 19,
   "metadata": {
    "colab": {
     "base_uri": "https://localhost:8080/"
    },
    "id": "RKB5ASs47S5i",
    "outputId": "a2361e80-2a74-4b2c-eda8-5cfeba0295d1"
   },
   "outputs": [
    {
     "data": {
      "text/plain": [
       "3"
      ]
     },
     "execution_count": 19,
     "metadata": {},
     "output_type": "execute_result"
    }
   ],
   "source": [
    "round(2.6)"
   ]
  },
  {
   "cell_type": "code",
   "execution_count": 20,
   "metadata": {
    "colab": {
     "base_uri": "https://localhost:8080/"
    },
    "id": "ltYShoPD7WOO",
    "outputId": "1823720a-6a72-4fe9-aea9-f9c40e793797"
   },
   "outputs": [
    {
     "name": "stdout",
     "output_type": "stream",
     "text": [
      "12\n",
      "8\n",
      "20\n",
      "5.0\n",
      "0\n",
      "5\n"
     ]
    }
   ],
   "source": [
    "x = 10 \n",
    "print(x + 2)\n",
    "print(x - 2)\n",
    "print(x * 2)\n",
    "print(x / 2)\n",
    "print(x % 2)\n",
    "print(x // 2)"
   ]
  },
  {
   "cell_type": "code",
   "execution_count": 21,
   "metadata": {
    "id": "TpXxKez_7hOq"
   },
   "outputs": [],
   "source": [
    "paragraf = \"\"\" Global AI Hub İsviçre Merkezli günden güne büyüyen Yapay Zeka Topluluğudur \"\"\" "
   ]
  },
  {
   "cell_type": "code",
   "execution_count": 22,
   "metadata": {
    "colab": {
     "base_uri": "https://localhost:8080/"
    },
    "id": "o-J17ZdA86MA",
    "outputId": "5db2ab8b-030d-4fd6-934c-21630e4d8dfb"
   },
   "outputs": [
    {
     "name": "stdout",
     "output_type": "stream",
     "text": [
      " Global AI Hub İsviçre Merkezli günden güne büyüyen Yapay Zeka Topluluğudur \n"
     ]
    }
   ],
   "source": [
    "print(paragraf)"
   ]
  },
  {
   "cell_type": "code",
   "execution_count": 23,
   "metadata": {
    "colab": {
     "base_uri": "https://localhost:8080/",
     "height": 35
    },
    "id": "9yFh-7ko8-aV",
    "outputId": "b92a8a3d-d1c8-44af-aa66-4cf6b9f13752"
   },
   "outputs": [
    {
     "data": {
      "text/plain": [
       "'\\nErdem YAZAN\\nGizem YAZAN\\n'"
      ]
     },
     "execution_count": 23,
     "metadata": {},
     "output_type": "execute_result"
    }
   ],
   "source": [
    "'''\n",
    "Erdem YAZAN\n",
    "Gizem YAZAN\n",
    "'''"
   ]
  },
  {
   "cell_type": "code",
   "execution_count": 24,
   "metadata": {
    "colab": {
     "base_uri": "https://localhost:8080/"
    },
    "id": "K5uqVJq29hPs",
    "outputId": "17146241-77ec-4552-eb9e-afd062933bb6"
   },
   "outputs": [
    {
     "name": "stdout",
     "output_type": "stream",
     "text": [
      "ErdemYazan\n"
     ]
    }
   ],
   "source": [
    "print(\"Erdem\" + \"Yazan\")"
   ]
  },
  {
   "cell_type": "code",
   "execution_count": 25,
   "metadata": {
    "colab": {
     "base_uri": "https://localhost:8080/"
    },
    "id": "v9X70nog9lfi",
    "outputId": "a486f4a1-37d2-4510-b936-f287c61d6dca"
   },
   "outputs": [
    {
     "name": "stdout",
     "output_type": "stream",
     "text": [
      "User Name :  erdem Age :  28\n"
     ]
    }
   ],
   "source": [
    "user_name = \"erdem\"\n",
    "age = 28 \n",
    "print(\"User Name : \", user_name, \"Age : \", age)"
   ]
  },
  {
   "cell_type": "code",
   "execution_count": 26,
   "metadata": {
    "colab": {
     "base_uri": "https://localhost:8080/"
    },
    "id": "39EdKArf-GzY",
    "outputId": "1b1962de-c7c1-477d-9b26-8ea00b683ce9"
   },
   "outputs": [
    {
     "data": {
      "text/plain": [
       "int"
      ]
     },
     "execution_count": 26,
     "metadata": {},
     "output_type": "execute_result"
    }
   ],
   "source": [
    "type(age)"
   ]
  },
  {
   "cell_type": "code",
   "execution_count": 27,
   "metadata": {
    "colab": {
     "base_uri": "https://localhost:8080/"
    },
    "id": "1tqJSORi-Y82",
    "outputId": "14dbf8b6-9438-4a0d-bf89-f294a73e0e74"
   },
   "outputs": [
    {
     "data": {
      "text/plain": [
       "28.0"
      ]
     },
     "execution_count": 27,
     "metadata": {},
     "output_type": "execute_result"
    }
   ],
   "source": [
    "float(age)"
   ]
  },
  {
   "cell_type": "code",
   "execution_count": 28,
   "metadata": {
    "colab": {
     "base_uri": "https://localhost:8080/",
     "height": 35
    },
    "id": "LYrjLGjg-ajj",
    "outputId": "27e807b8-9391-4e07-e218-f287920ae88b"
   },
   "outputs": [
    {
     "data": {
      "text/plain": [
       "'2'"
      ]
     },
     "execution_count": 28,
     "metadata": {},
     "output_type": "execute_result"
    }
   ],
   "source": [
    "integer_value = int(2.5)\n",
    "string_value = str(2)\n",
    "string_value"
   ]
  },
  {
   "cell_type": "code",
   "execution_count": 29,
   "metadata": {
    "colab": {
     "base_uri": "https://localhost:8080/"
    },
    "id": "nFnTXrw6-ln2",
    "outputId": "42aec808-ddcb-49e3-829c-64d8e9dcea78"
   },
   "outputs": [
    {
     "data": {
      "text/plain": [
       "3"
      ]
     },
     "execution_count": 29,
     "metadata": {},
     "output_type": "execute_result"
    }
   ],
   "source": [
    "int('3')"
   ]
  },
  {
   "cell_type": "code",
   "execution_count": 30,
   "metadata": {
    "id": "Dwla5gS9B8AM"
   },
   "outputs": [],
   "source": [
    "merhaba = 'merhaba dünya'"
   ]
  },
  {
   "cell_type": "code",
   "execution_count": 31,
   "metadata": {
    "colab": {
     "base_uri": "https://localhost:8080/"
    },
    "id": "s_ta_6hLCUNH",
    "outputId": "1396f6f8-1233-4a1e-c2a5-eba74403426b"
   },
   "outputs": [
    {
     "name": "stdout",
     "output_type": "stream",
     "text": [
      "Hosgeldiniz {'merhaba dünya'}\n"
     ]
    }
   ],
   "source": [
    "print(f'Hosgeldiniz', {merhaba})"
   ]
  },
  {
   "cell_type": "code",
   "execution_count": 32,
   "metadata": {
    "colab": {
     "base_uri": "https://localhost:8080/"
    },
    "id": "42SXwGDMCaM2",
    "outputId": "8fdbae90-8469-4951-e948-9a906a35f30b"
   },
   "outputs": [
    {
     "name": "stdout",
     "output_type": "stream",
     "text": [
      "İ\n"
     ]
    }
   ],
   "source": [
    "string1 = 'İstanbul'\n",
    "print(string1[0])"
   ]
  },
  {
   "cell_type": "code",
   "execution_count": 33,
   "metadata": {
    "colab": {
     "base_uri": "https://localhost:8080/",
     "height": 35
    },
    "id": "rD4GAABrCwDN",
    "outputId": "11da2e6d-4909-4273-b892-5cf519c52514"
   },
   "outputs": [
    {
     "data": {
      "text/plain": [
       "'İstan'"
      ]
     },
     "execution_count": 33,
     "metadata": {},
     "output_type": "execute_result"
    }
   ],
   "source": [
    "string1[0:5]"
   ]
  },
  {
   "cell_type": "code",
   "execution_count": 34,
   "metadata": {
    "colab": {
     "base_uri": "https://localhost:8080/",
     "height": 35
    },
    "id": "vcIeqOK-DVH0",
    "outputId": "ebacaca5-3de5-4cbd-e755-3fd8addf56c7"
   },
   "outputs": [
    {
     "data": {
      "text/plain": [
       "'İstanbul'"
      ]
     },
     "execution_count": 34,
     "metadata": {},
     "output_type": "execute_result"
    }
   ],
   "source": [
    "string1[0:8]"
   ]
  },
  {
   "cell_type": "code",
   "execution_count": 35,
   "metadata": {
    "colab": {
     "base_uri": "https://localhost:8080/",
     "height": 35
    },
    "id": "Eg6xUMa4DYF9",
    "outputId": "9eee2175-8e60-4d9c-f41b-2805067a03f2"
   },
   "outputs": [
    {
     "data": {
      "text/plain": [
       "'İtn'"
      ]
     },
     "execution_count": 35,
     "metadata": {},
     "output_type": "execute_result"
    }
   ],
   "source": [
    "string1[0:5:2]"
   ]
  },
  {
   "cell_type": "code",
   "execution_count": 36,
   "metadata": {
    "id": "MCNkt1DNDjJr"
   },
   "outputs": [],
   "source": [
    "erdem = True \n",
    "gizem = False"
   ]
  },
  {
   "cell_type": "code",
   "execution_count": 37,
   "metadata": {
    "colab": {
     "base_uri": "https://localhost:8080/"
    },
    "id": "8dgDAHv5D57o",
    "outputId": "48489536-93a8-4e98-8435-c76b71af6428"
   },
   "outputs": [
    {
     "name": "stdout",
     "output_type": "stream",
     "text": [
      "True\n"
     ]
    }
   ],
   "source": [
    "print(10>9)"
   ]
  },
  {
   "cell_type": "code",
   "execution_count": 38,
   "metadata": {
    "colab": {
     "base_uri": "https://localhost:8080/"
    },
    "id": "8fuoytkNEE5P",
    "outputId": "5564b292-86db-4e4f-b670-f29558af606c"
   },
   "outputs": [
    {
     "name": "stdout",
     "output_type": "stream",
     "text": [
      "False\n"
     ]
    }
   ],
   "source": [
    "print(10 == 3)"
   ]
  },
  {
   "cell_type": "code",
   "execution_count": 39,
   "metadata": {
    "colab": {
     "base_uri": "https://localhost:8080/"
    },
    "id": "nByyhwIvEKYW",
    "outputId": "4d197e8a-1d91-482b-ae9c-23b25c092272"
   },
   "outputs": [
    {
     "name": "stdout",
     "output_type": "stream",
     "text": [
      "['2', 'erdem', 2, 2.5, True, 'Global AI']\n"
     ]
    }
   ],
   "source": [
    "liste = ['2','erdem',2,2.5,True,'Global AI']\n",
    "print(liste)"
   ]
  },
  {
   "cell_type": "code",
   "execution_count": 40,
   "metadata": {
    "id": "cvSmHoH1Fmuf"
   },
   "outputs": [],
   "source": [
    "scores = [44,48,55,89,34]"
   ]
  },
  {
   "cell_type": "code",
   "execution_count": 41,
   "metadata": {
    "colab": {
     "base_uri": "https://localhost:8080/"
    },
    "id": "su8PIHaRGPvM",
    "outputId": "836a847f-6e15-4c53-9469-45bccc58a20e"
   },
   "outputs": [
    {
     "name": "stdout",
     "output_type": "stream",
     "text": [
      "[44, 48, 55, 89, 34, 100]\n"
     ]
    }
   ],
   "source": [
    "scores.append(100)\n",
    "print(scores)"
   ]
  },
  {
   "cell_type": "code",
   "execution_count": 42,
   "metadata": {
    "id": "VXZ35VmmGSi_"
   },
   "outputs": [],
   "source": [
    "# append değeri sona ekler. \n",
    "scores.append(100)"
   ]
  },
  {
   "cell_type": "code",
   "execution_count": 43,
   "metadata": {
    "colab": {
     "base_uri": "https://localhost:8080/"
    },
    "id": "Hf8fhk4-GVOc",
    "outputId": "6a5647a9-c100-4ae9-a2a1-26b9aa8d2b1a"
   },
   "outputs": [
    {
     "name": "stdout",
     "output_type": "stream",
     "text": [
      "[44, 48, 55, 89, 34, 100, 100]\n"
     ]
    }
   ],
   "source": [
    "print(scores)"
   ]
  },
  {
   "cell_type": "code",
   "execution_count": 44,
   "metadata": {
    "id": "gRd_kZ7jGWo1"
   },
   "outputs": [],
   "source": [
    "scores.insert(3,7)"
   ]
  },
  {
   "cell_type": "code",
   "execution_count": 45,
   "metadata": {
    "colab": {
     "base_uri": "https://localhost:8080/"
    },
    "id": "Uksv2IUuGjw6",
    "outputId": "32686931-61fe-431c-daf9-a84a5e4a9f87"
   },
   "outputs": [
    {
     "name": "stdout",
     "output_type": "stream",
     "text": [
      "[44, 48, 55, 7, 89, 34, 100, 100]\n"
     ]
    }
   ],
   "source": [
    "print(scores)"
   ]
  },
  {
   "cell_type": "code",
   "execution_count": 46,
   "metadata": {
    "id": "N6N-RvpsG5JZ"
   },
   "outputs": [],
   "source": [
    "# Extend elimizdeki veriyi genişletmeye yarar\n",
    "scores.extend([23])"
   ]
  },
  {
   "cell_type": "code",
   "execution_count": 47,
   "metadata": {
    "colab": {
     "base_uri": "https://localhost:8080/"
    },
    "id": "-r8trOUSHGId",
    "outputId": "e2017d22-1c03-47f7-96ba-e9bcbd280031"
   },
   "outputs": [
    {
     "name": "stdout",
     "output_type": "stream",
     "text": [
      "[44, 48, 55, 7, 89, 34, 100, 100, 23]\n"
     ]
    }
   ],
   "source": [
    "print(scores)"
   ]
  },
  {
   "cell_type": "code",
   "execution_count": 48,
   "metadata": {
    "colab": {
     "base_uri": "https://localhost:8080/"
    },
    "id": "tYEdJfl1HHBU",
    "outputId": "ccc0fd56-9eb8-4a65-d144-245de70e1847"
   },
   "outputs": [
    {
     "name": "stdout",
     "output_type": "stream",
     "text": [
      "23\n"
     ]
    }
   ],
   "source": [
    "print(scores.pop())"
   ]
  },
  {
   "cell_type": "code",
   "execution_count": 49,
   "metadata": {
    "colab": {
     "base_uri": "https://localhost:8080/"
    },
    "id": "uJhkCufsHWiX",
    "outputId": "1965d316-cc56-477a-c268-f1962d495686"
   },
   "outputs": [
    {
     "name": "stdout",
     "output_type": "stream",
     "text": [
      "[44, 48, 55, 7, 89, 34, 100, 100]\n"
     ]
    }
   ],
   "source": [
    "print(scores)"
   ]
  },
  {
   "cell_type": "code",
   "execution_count": 50,
   "metadata": {
    "colab": {
     "base_uri": "https://localhost:8080/"
    },
    "id": "zI2YckIUHYsY",
    "outputId": "a5a37d25-1810-477a-810e-0e7b8c9b6506"
   },
   "outputs": [
    {
     "name": "stdout",
     "output_type": "stream",
     "text": [
      "[44, 48, 55, 7, 34, 100, 100]\n"
     ]
    }
   ],
   "source": [
    "scores.remove(89)\n",
    "print(scores)"
   ]
  },
  {
   "cell_type": "code",
   "execution_count": 51,
   "metadata": {
    "colab": {
     "base_uri": "https://localhost:8080/"
    },
    "id": "qrCCPhWhH8Me",
    "outputId": "5acb0e80-2c49-45aa-d7cf-a2d7d89184ce"
   },
   "outputs": [
    {
     "name": "stdout",
     "output_type": "stream",
     "text": [
      "[]\n"
     ]
    }
   ],
   "source": [
    "scores.clear()\n",
    "print(scores)"
   ]
  },
  {
   "cell_type": "code",
   "execution_count": 52,
   "metadata": {
    "colab": {
     "base_uri": "https://localhost:8080/"
    },
    "id": "gd4jLj6eIBwf",
    "outputId": "082f3e0f-f687-44f7-ad37-9f3275452971"
   },
   "outputs": [
    {
     "name": "stdout",
     "output_type": "stream",
     "text": [
      "0\n"
     ]
    }
   ],
   "source": [
    "#indexler üzerinde çalışmak (index, count)\n",
    "alphabet = ['a','b','c','d','e','f','f','f']\n",
    "print(alphabet.index('a'))"
   ]
  },
  {
   "cell_type": "code",
   "execution_count": 53,
   "metadata": {
    "colab": {
     "base_uri": "https://localhost:8080/"
    },
    "id": "uvVh6_9rIg-b",
    "outputId": "340c5192-9a90-4adb-96d2-723885a92db6"
   },
   "outputs": [
    {
     "name": "stdout",
     "output_type": "stream",
     "text": [
      "5\n"
     ]
    }
   ],
   "source": [
    "print(alphabet.index('f'))"
   ]
  },
  {
   "cell_type": "code",
   "execution_count": 54,
   "metadata": {
    "colab": {
     "base_uri": "https://localhost:8080/"
    },
    "id": "dAUqyjO1IjJ8",
    "outputId": "78d3b108-a2e7-4982-e4cb-41ddb98b3bb1"
   },
   "outputs": [
    {
     "name": "stdout",
     "output_type": "stream",
     "text": [
      "1\n"
     ]
    }
   ],
   "source": [
    "print(alphabet.count('a'))"
   ]
  },
  {
   "cell_type": "code",
   "execution_count": 55,
   "metadata": {
    "colab": {
     "base_uri": "https://localhost:8080/"
    },
    "id": "BuXiKcbAInLc",
    "outputId": "a2482a5e-4786-4815-81cc-252ea6355082"
   },
   "outputs": [
    {
     "name": "stdout",
     "output_type": "stream",
     "text": [
      "3\n"
     ]
    }
   ],
   "source": [
    "print(alphabet.count('f'))"
   ]
  },
  {
   "cell_type": "code",
   "execution_count": 58,
   "metadata": {
    "id": "qelxHMA-IonK"
   },
   "outputs": [],
   "source": [
    "# sort, reverse, copy \n",
    "number = [1, 2, 39, 3, 21, 44, 12]"
   ]
  },
  {
   "cell_type": "code",
   "execution_count": 59,
   "metadata": {
    "colab": {
     "base_uri": "https://localhost:8080/"
    },
    "id": "LGxeLiXmI4-u",
    "outputId": "2c91f3d5-eefa-4627-8cf0-2d1dc612e967"
   },
   "outputs": [
    {
     "name": "stdout",
     "output_type": "stream",
     "text": [
      "None\n"
     ]
    }
   ],
   "source": [
    "print(number.sort())"
   ]
  },
  {
   "cell_type": "code",
   "execution_count": 60,
   "metadata": {
    "colab": {
     "base_uri": "https://localhost:8080/"
    },
    "id": "jpXaY_4QI7gM",
    "outputId": "a3bf31b5-026f-4cee-a0f6-ddb4934ec898"
   },
   "outputs": [
    {
     "data": {
      "text/plain": [
       "[1, 2, 3, 12, 21, 39, 44]"
      ]
     },
     "execution_count": 60,
     "metadata": {},
     "output_type": "execute_result"
    }
   ],
   "source": [
    "number.sort()\n",
    "number"
   ]
  },
  {
   "cell_type": "code",
   "execution_count": 61,
   "metadata": {
    "id": "04pDh9iBI_vX"
   },
   "outputs": [],
   "source": [
    "number.reverse()"
   ]
  },
  {
   "cell_type": "code",
   "execution_count": 62,
   "metadata": {
    "colab": {
     "base_uri": "https://localhost:8080/"
    },
    "id": "UI8llE4aJCBK",
    "outputId": "c46bfd4b-f628-41bd-af4a-57583e46d349"
   },
   "outputs": [
    {
     "data": {
      "text/plain": [
       "[44, 39, 21, 12, 3, 2, 1]"
      ]
     },
     "execution_count": 62,
     "metadata": {},
     "output_type": "execute_result"
    }
   ],
   "source": [
    "number"
   ]
  },
  {
   "cell_type": "code",
   "execution_count": 63,
   "metadata": {
    "colab": {
     "base_uri": "https://localhost:8080/"
    },
    "id": "oN4RyQzXJDni",
    "outputId": "c1515de5-ef1f-4b55-a3cb-76aef8db4da6"
   },
   "outputs": [
    {
     "data": {
      "text/plain": [
       "[44, 39, 21, 12, 3, 2, 1]"
      ]
     },
     "execution_count": 63,
     "metadata": {},
     "output_type": "execute_result"
    }
   ],
   "source": [
    "number2 = number.copy()\n",
    "number2"
   ]
  },
  {
   "cell_type": "code",
   "execution_count": 64,
   "metadata": {
    "colab": {
     "base_uri": "https://localhost:8080/"
    },
    "id": "onkMvwfbJJg0",
    "outputId": "29761000-2f74-42d9-8ad9-6095bc35cf0d"
   },
   "outputs": [
    {
     "data": {
      "text/plain": [
       "[1, 2, 3, 12, 21, 39, 44]"
      ]
     },
     "execution_count": 64,
     "metadata": {},
     "output_type": "execute_result"
    }
   ],
   "source": [
    "sorted(number)\n",
    "#sorted kalıcı değil"
   ]
  },
  {
   "cell_type": "code",
   "execution_count": 65,
   "metadata": {
    "id": "c3Xf-CGBJWEC"
   },
   "outputs": [],
   "source": [
    "#Dictionary\n",
    "user = {'name': 'Erdem', 'Age' : 28, 'married': True}"
   ]
  },
  {
   "cell_type": "code",
   "execution_count": 66,
   "metadata": {
    "colab": {
     "base_uri": "https://localhost:8080/"
    },
    "id": "DheGhEYqKD11",
    "outputId": "cb49b2da-4c11-4a74-ecf8-bbfa52943f49"
   },
   "outputs": [
    {
     "data": {
      "text/plain": [
       "{'name': 'Erdem', 'Age': 28, 'married': True}"
      ]
     },
     "execution_count": 66,
     "metadata": {},
     "output_type": "execute_result"
    }
   ],
   "source": [
    "user"
   ]
  },
  {
   "cell_type": "code",
   "execution_count": 67,
   "metadata": {
    "id": "NjZBet-FKFe0"
   },
   "outputs": [],
   "source": [
    "user['Basari'] = 'Calismak'"
   ]
  },
  {
   "cell_type": "code",
   "execution_count": 68,
   "metadata": {
    "colab": {
     "base_uri": "https://localhost:8080/"
    },
    "id": "sogHIE7_KMjQ",
    "outputId": "69f26d02-67d3-4332-8ec1-0b3c6acb0ecf"
   },
   "outputs": [
    {
     "data": {
      "text/plain": [
       "{'name': 'Erdem', 'Age': 28, 'married': True, 'Basari': 'Calismak'}"
      ]
     },
     "execution_count": 68,
     "metadata": {},
     "output_type": "execute_result"
    }
   ],
   "source": [
    "user"
   ]
  },
  {
   "cell_type": "code",
   "execution_count": 69,
   "metadata": {
    "colab": {
     "base_uri": "https://localhost:8080/"
    },
    "id": "iSOss7dFKNwO",
    "outputId": "245e79bb-733f-4abb-cca7-ed1a67130aba"
   },
   "outputs": [
    {
     "name": "stdout",
     "output_type": "stream",
     "text": [
      "True\n",
      "28\n",
      "Calismak\n"
     ]
    }
   ],
   "source": [
    "print(user['married'])\n",
    "print(user['Age'])\n",
    "print(user['Basari'])"
   ]
  },
  {
   "cell_type": "code",
   "execution_count": 70,
   "metadata": {
    "colab": {
     "base_uri": "https://localhost:8080/"
    },
    "id": "Fn7ow345KQs1",
    "outputId": "8b36e099-bdf0-4b27-fd9b-5a846e5af8f1"
   },
   "outputs": [
    {
     "name": "stdout",
     "output_type": "stream",
     "text": [
      "True\n"
     ]
    }
   ],
   "source": [
    "#key operatorü\n",
    "print('name' in user.keys())"
   ]
  },
  {
   "cell_type": "code",
   "execution_count": 71,
   "metadata": {
    "colab": {
     "base_uri": "https://localhost:8080/"
    },
    "id": "TR_N49ibLPD2",
    "outputId": "5a574235-5baf-4efb-ae72-7b65b2d0e8ed"
   },
   "outputs": [
    {
     "data": {
      "text/plain": [
       "dict_keys(['name', 'Age', 'married', 'Basari'])"
      ]
     },
     "execution_count": 71,
     "metadata": {},
     "output_type": "execute_result"
    }
   ],
   "source": [
    "user.keys()"
   ]
  },
  {
   "cell_type": "code",
   "execution_count": 72,
   "metadata": {
    "colab": {
     "base_uri": "https://localhost:8080/"
    },
    "id": "QxS24oHhLSv4",
    "outputId": "6d156882-409a-4047-fba8-b49c89bd937c"
   },
   "outputs": [
    {
     "name": "stdout",
     "output_type": "stream",
     "text": [
      "True\n"
     ]
    }
   ],
   "source": [
    "erdem = [25,44,5.6]\n",
    "print(25 in erdem)"
   ]
  },
  {
   "cell_type": "code",
   "execution_count": null,
   "metadata": {
    "id": "6zYfJhxELgca"
   },
   "outputs": [],
   "source": [
    "#sadece iterasyon yapabildiğimiz değerlerde kullanabilir miyiz?"
   ]
  }
 ],
 "metadata": {
  "colab": {
   "collapsed_sections": [],
   "name": "Modul_1.ipynb",
   "provenance": []
  },
  "kernelspec": {
   "display_name": "Python 3 (ipykernel)",
   "language": "python",
   "name": "python3"
  },
  "language_info": {
   "codemirror_mode": {
    "name": "ipython",
    "version": 3
   },
   "file_extension": ".py",
   "mimetype": "text/x-python",
   "name": "python",
   "nbconvert_exporter": "python",
   "pygments_lexer": "ipython3",
   "version": "3.9.7"
  }
 },
 "nbformat": 4,
 "nbformat_minor": 1
}
